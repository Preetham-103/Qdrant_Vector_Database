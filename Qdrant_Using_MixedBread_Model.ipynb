{
  "nbformat": 4,
  "nbformat_minor": 0,
  "metadata": {
    "colab": {
      "provenance": []
    },
    "kernelspec": {
      "name": "python3",
      "display_name": "Python 3"
    },
    "language_info": {
      "name": "python"
    }
  },
  "cells": [
    {
      "cell_type": "code",
      "source": [
        "!pip install qdrant-client openai"
      ],
      "metadata": {
        "colab": {
          "base_uri": "https://localhost:8080/"
        },
        "id": "AZ6a0lDhguZo",
        "outputId": "b38f6083-d69a-4e46-afb9-3eed4a51a282",
        "collapsed": true
      },
      "execution_count": 1,
      "outputs": [
        {
          "output_type": "stream",
          "name": "stdout",
          "text": [
            "Collecting qdrant-client\n",
            "  Downloading qdrant_client-1.12.1-py3-none-any.whl.metadata (10 kB)\n",
            "Requirement already satisfied: openai in /usr/local/lib/python3.10/dist-packages (1.54.4)\n",
            "Requirement already satisfied: grpcio>=1.41.0 in /usr/local/lib/python3.10/dist-packages (from qdrant-client) (1.67.1)\n",
            "Collecting grpcio-tools>=1.41.0 (from qdrant-client)\n",
            "  Downloading grpcio_tools-1.68.0-cp310-cp310-manylinux_2_17_x86_64.manylinux2014_x86_64.whl.metadata (5.3 kB)\n",
            "Requirement already satisfied: httpx>=0.20.0 in /usr/local/lib/python3.10/dist-packages (from httpx[http2]>=0.20.0->qdrant-client) (0.27.2)\n",
            "Requirement already satisfied: numpy>=1.21 in /usr/local/lib/python3.10/dist-packages (from qdrant-client) (1.26.4)\n",
            "Collecting portalocker<3.0.0,>=2.7.0 (from qdrant-client)\n",
            "  Downloading portalocker-2.10.1-py3-none-any.whl.metadata (8.5 kB)\n",
            "Requirement already satisfied: pydantic>=1.10.8 in /usr/local/lib/python3.10/dist-packages (from qdrant-client) (2.9.2)\n",
            "Requirement already satisfied: urllib3<3,>=1.26.14 in /usr/local/lib/python3.10/dist-packages (from qdrant-client) (2.2.3)\n",
            "Requirement already satisfied: anyio<5,>=3.5.0 in /usr/local/lib/python3.10/dist-packages (from openai) (3.7.1)\n",
            "Requirement already satisfied: distro<2,>=1.7.0 in /usr/local/lib/python3.10/dist-packages (from openai) (1.9.0)\n",
            "Requirement already satisfied: jiter<1,>=0.4.0 in /usr/local/lib/python3.10/dist-packages (from openai) (0.7.1)\n",
            "Requirement already satisfied: sniffio in /usr/local/lib/python3.10/dist-packages (from openai) (1.3.1)\n",
            "Requirement already satisfied: tqdm>4 in /usr/local/lib/python3.10/dist-packages (from openai) (4.66.6)\n",
            "Requirement already satisfied: typing-extensions<5,>=4.11 in /usr/local/lib/python3.10/dist-packages (from openai) (4.12.2)\n",
            "Requirement already satisfied: idna>=2.8 in /usr/local/lib/python3.10/dist-packages (from anyio<5,>=3.5.0->openai) (3.10)\n",
            "Requirement already satisfied: exceptiongroup in /usr/local/lib/python3.10/dist-packages (from anyio<5,>=3.5.0->openai) (1.2.2)\n",
            "Collecting protobuf<6.0dev,>=5.26.1 (from grpcio-tools>=1.41.0->qdrant-client)\n",
            "  Downloading protobuf-5.28.3-cp38-abi3-manylinux2014_x86_64.whl.metadata (592 bytes)\n",
            "Collecting grpcio>=1.41.0 (from qdrant-client)\n",
            "  Downloading grpcio-1.68.0-cp310-cp310-manylinux_2_17_x86_64.manylinux2014_x86_64.whl.metadata (3.9 kB)\n",
            "Requirement already satisfied: setuptools in /usr/local/lib/python3.10/dist-packages (from grpcio-tools>=1.41.0->qdrant-client) (75.1.0)\n",
            "Requirement already satisfied: certifi in /usr/local/lib/python3.10/dist-packages (from httpx>=0.20.0->httpx[http2]>=0.20.0->qdrant-client) (2024.8.30)\n",
            "Requirement already satisfied: httpcore==1.* in /usr/local/lib/python3.10/dist-packages (from httpx>=0.20.0->httpx[http2]>=0.20.0->qdrant-client) (1.0.6)\n",
            "Requirement already satisfied: h11<0.15,>=0.13 in /usr/local/lib/python3.10/dist-packages (from httpcore==1.*->httpx>=0.20.0->httpx[http2]>=0.20.0->qdrant-client) (0.14.0)\n",
            "Collecting h2<5,>=3 (from httpx[http2]>=0.20.0->qdrant-client)\n",
            "  Downloading h2-4.1.0-py3-none-any.whl.metadata (3.6 kB)\n",
            "Requirement already satisfied: annotated-types>=0.6.0 in /usr/local/lib/python3.10/dist-packages (from pydantic>=1.10.8->qdrant-client) (0.7.0)\n",
            "Requirement already satisfied: pydantic-core==2.23.4 in /usr/local/lib/python3.10/dist-packages (from pydantic>=1.10.8->qdrant-client) (2.23.4)\n",
            "Collecting hyperframe<7,>=6.0 (from h2<5,>=3->httpx[http2]>=0.20.0->qdrant-client)\n",
            "  Downloading hyperframe-6.0.1-py3-none-any.whl.metadata (2.7 kB)\n",
            "Collecting hpack<5,>=4.0 (from h2<5,>=3->httpx[http2]>=0.20.0->qdrant-client)\n",
            "  Downloading hpack-4.0.0-py3-none-any.whl.metadata (2.5 kB)\n",
            "Downloading qdrant_client-1.12.1-py3-none-any.whl (267 kB)\n",
            "\u001b[2K   \u001b[90m━━━━━━━━━━━━━━━━━━━━━━━━━━━━━━━━━━━━━━━━\u001b[0m \u001b[32m267.2/267.2 kB\u001b[0m \u001b[31m6.7 MB/s\u001b[0m eta \u001b[36m0:00:00\u001b[0m\n",
            "\u001b[?25hDownloading grpcio_tools-1.68.0-cp310-cp310-manylinux_2_17_x86_64.manylinux2014_x86_64.whl (2.4 MB)\n",
            "\u001b[2K   \u001b[90m━━━━━━━━━━━━━━━━━━━━━━━━━━━━━━━━━━━━━━━━\u001b[0m \u001b[32m2.4/2.4 MB\u001b[0m \u001b[31m44.2 MB/s\u001b[0m eta \u001b[36m0:00:00\u001b[0m\n",
            "\u001b[?25hDownloading grpcio-1.68.0-cp310-cp310-manylinux_2_17_x86_64.manylinux2014_x86_64.whl (5.9 MB)\n",
            "\u001b[2K   \u001b[90m━━━━━━━━━━━━━━━━━━━━━━━━━━━━━━━━━━━━━━━━\u001b[0m \u001b[32m5.9/5.9 MB\u001b[0m \u001b[31m60.4 MB/s\u001b[0m eta \u001b[36m0:00:00\u001b[0m\n",
            "\u001b[?25hDownloading portalocker-2.10.1-py3-none-any.whl (18 kB)\n",
            "Downloading h2-4.1.0-py3-none-any.whl (57 kB)\n",
            "\u001b[2K   \u001b[90m━━━━━━━━━━━━━━━━━━━━━━━━━━━━━━━━━━━━━━━━\u001b[0m \u001b[32m57.5/57.5 kB\u001b[0m \u001b[31m4.1 MB/s\u001b[0m eta \u001b[36m0:00:00\u001b[0m\n",
            "\u001b[?25hDownloading protobuf-5.28.3-cp38-abi3-manylinux2014_x86_64.whl (316 kB)\n",
            "\u001b[2K   \u001b[90m━━━━━━━━━━━━━━━━━━━━━━━━━━━━━━━━━━━━━━━━\u001b[0m \u001b[32m316.6/316.6 kB\u001b[0m \u001b[31m20.2 MB/s\u001b[0m eta \u001b[36m0:00:00\u001b[0m\n",
            "\u001b[?25hDownloading hpack-4.0.0-py3-none-any.whl (32 kB)\n",
            "Downloading hyperframe-6.0.1-py3-none-any.whl (12 kB)\n",
            "Installing collected packages: protobuf, portalocker, hyperframe, hpack, grpcio, h2, grpcio-tools, qdrant-client\n",
            "  Attempting uninstall: protobuf\n",
            "    Found existing installation: protobuf 4.25.5\n",
            "    Uninstalling protobuf-4.25.5:\n",
            "      Successfully uninstalled protobuf-4.25.5\n",
            "  Attempting uninstall: grpcio\n",
            "    Found existing installation: grpcio 1.67.1\n",
            "    Uninstalling grpcio-1.67.1:\n",
            "      Successfully uninstalled grpcio-1.67.1\n",
            "\u001b[31mERROR: pip's dependency resolver does not currently take into account all the packages that are installed. This behaviour is the source of the following dependency conflicts.\n",
            "tensorflow 2.17.1 requires protobuf!=4.21.0,!=4.21.1,!=4.21.2,!=4.21.3,!=4.21.4,!=4.21.5,<5.0.0dev,>=3.20.3, but you have protobuf 5.28.3 which is incompatible.\n",
            "tensorflow-metadata 1.13.1 requires protobuf<5,>=3.20.3, but you have protobuf 5.28.3 which is incompatible.\u001b[0m\u001b[31m\n",
            "\u001b[0mSuccessfully installed grpcio-1.68.0 grpcio-tools-1.68.0 h2-4.1.0 hpack-4.0.0 hyperframe-6.0.1 portalocker-2.10.1 protobuf-5.28.3 qdrant-client-1.12.1\n"
          ]
        }
      ]
    },
    {
      "cell_type": "code",
      "source": [
        "!pip install python-dotenv"
      ],
      "metadata": {
        "colab": {
          "base_uri": "https://localhost:8080/"
        },
        "id": "N3TWKMv8jgtN",
        "outputId": "9ed6f388-15d0-4d85-f420-8341cebbb0b4"
      },
      "execution_count": 2,
      "outputs": [
        {
          "output_type": "stream",
          "name": "stdout",
          "text": [
            "Collecting python-dotenv\n",
            "  Downloading python_dotenv-1.0.1-py3-none-any.whl.metadata (23 kB)\n",
            "Downloading python_dotenv-1.0.1-py3-none-any.whl (19 kB)\n",
            "Installing collected packages: python-dotenv\n",
            "Successfully installed python-dotenv-1.0.1\n"
          ]
        }
      ]
    },
    {
      "cell_type": "code",
      "source": [
        "import os\n",
        "from dotenv import load_dotenv\n",
        "from qdrant_client import QdrantClient\n",
        "from qdrant_client.http import models\n",
        "\n",
        "load_dotenv('/content/env.txt')"
      ],
      "metadata": {
        "colab": {
          "base_uri": "https://localhost:8080/"
        },
        "id": "r_K6vaPlir2o",
        "outputId": "0afd353f-927c-49d5-fbc2-9dbbe59b55e4"
      },
      "execution_count": 3,
      "outputs": [
        {
          "output_type": "execute_result",
          "data": {
            "text/plain": [
              "True"
            ]
          },
          "metadata": {},
          "execution_count": 3
        }
      ]
    },
    {
      "cell_type": "code",
      "source": [
        "#This code is to create the client.\n",
        "client = QdrantClient(\n",
        "    os.getenv(\"qdrant_host\"),\n",
        "    api_key=os.getenv(\"qdrant_api_key\")\n",
        ")"
      ],
      "metadata": {
        "id": "DwTH7yFYj2L-"
      },
      "execution_count": 4,
      "outputs": []
    },
    {
      "cell_type": "code",
      "source": [
        "client.delete_collection(os.getenv('qdrant_collection_name'))"
      ],
      "metadata": {
        "colab": {
          "base_uri": "https://localhost:8080/"
        },
        "id": "ID3stdRDsvon",
        "outputId": "3b233731-9969-4d72-bce4-bd4e9c6c1ba3"
      },
      "execution_count": 23,
      "outputs": [
        {
          "output_type": "execute_result",
          "data": {
            "text/plain": [
              "True"
            ]
          },
          "metadata": {},
          "execution_count": 23
        }
      ]
    },
    {
      "cell_type": "code",
      "source": [
        "# Create a new collection with size 1024\n",
        "collection_config = models.VectorParams(\n",
        "    size=1024,  # Set to match embedding size\n",
        "    distance=models.Distance.COSINE\n",
        ")"
      ],
      "metadata": {
        "id": "ufI2DWU7sxK7"
      },
      "execution_count": 24,
      "outputs": []
    },
    {
      "cell_type": "code",
      "source": [
        "client.create_collection(\n",
        "    collection_name=os.getenv('qdrant_collection_name'),\n",
        "    vectors_config=collection_config\n",
        ")"
      ],
      "metadata": {
        "colab": {
          "base_uri": "https://localhost:8080/"
        },
        "id": "SwAEDyWAs1_V",
        "outputId": "295af358-0326-40a1-a1ae-cb351d40dc8d"
      },
      "execution_count": 25,
      "outputs": [
        {
          "output_type": "execute_result",
          "data": {
            "text/plain": [
              "True"
            ]
          },
          "metadata": {},
          "execution_count": 25
        }
      ]
    },
    {
      "cell_type": "code",
      "source": [
        "print(client.get_collections())"
      ],
      "metadata": {
        "id": "T3J89skrmC88",
        "colab": {
          "base_uri": "https://localhost:8080/"
        },
        "outputId": "14c4c59f-ba2e-421d-a71b-dcca049d3980"
      },
      "execution_count": 26,
      "outputs": [
        {
          "output_type": "stream",
          "name": "stdout",
          "text": [
            "collections=[CollectionDescription(name='terraforming'), CollectionDescription(name='my_collection'), CollectionDescription(name='midjourney'), CollectionDescription(name='None'), CollectionDescription(name='bert_collection'), CollectionDescription(name='star_charts'), CollectionDescription(name='dinosaurs')]\n"
          ]
        }
      ]
    },
    {
      "cell_type": "code",
      "source": [
        "collection_info = client.get_collection(os.getenv('qdrant_collection_name'))\n",
        "print(collection_info)\n"
      ],
      "metadata": {
        "colab": {
          "base_uri": "https://localhost:8080/"
        },
        "id": "6ro6-6nNr-Tb",
        "outputId": "71e06a0e-14e6-4569-f71b-55607464ad44"
      },
      "execution_count": 27,
      "outputs": [
        {
          "output_type": "stream",
          "name": "stdout",
          "text": [
            "status=<CollectionStatus.GREEN: 'green'> optimizer_status=<OptimizersStatusOneOf.OK: 'ok'> vectors_count=None indexed_vectors_count=0 points_count=0 segments_count=2 config=CollectionConfig(params=CollectionParams(vectors=VectorParams(size=1024, distance=<Distance.COSINE: 'Cosine'>, hnsw_config=None, quantization_config=None, on_disk=None, datatype=None, multivector_config=None), shard_number=1, sharding_method=None, replication_factor=1, write_consistency_factor=1, read_fan_out_factor=None, on_disk_payload=True, sparse_vectors=None), hnsw_config=HnswConfig(m=16, ef_construct=100, full_scan_threshold=10000, max_indexing_threads=0, on_disk=False, payload_m=None), optimizer_config=OptimizersConfig(deleted_threshold=0.2, vacuum_min_vector_number=1000, default_segment_number=0, max_segment_size=None, memmap_threshold=None, indexing_threshold=20000, flush_interval_sec=5, max_optimization_threads=None), wal_config=WalConfig(wal_capacity_mb=32, wal_segments_ahead=0), quantization_config=None) payload_schema={}\n"
          ]
        }
      ]
    },
    {
      "cell_type": "code",
      "source": [
        "!pip install mixedbread_ai"
      ],
      "metadata": {
        "colab": {
          "base_uri": "https://localhost:8080/"
        },
        "id": "JKEymMH6o6jL",
        "outputId": "d37a6e2d-b332-480e-abad-158dfe361bae"
      },
      "execution_count": 8,
      "outputs": [
        {
          "output_type": "stream",
          "name": "stdout",
          "text": [
            "Collecting mixedbread_ai\n",
            "  Downloading mixedbread_ai-2.2.6-py3-none-any.whl.metadata (5.9 kB)\n",
            "Requirement already satisfied: httpx>=0.21.2 in /usr/local/lib/python3.10/dist-packages (from mixedbread_ai) (0.27.2)\n",
            "Requirement already satisfied: pydantic>=1.9.2 in /usr/local/lib/python3.10/dist-packages (from mixedbread_ai) (2.9.2)\n",
            "Requirement already satisfied: typing_extensions>=4.0.0 in /usr/local/lib/python3.10/dist-packages (from mixedbread_ai) (4.12.2)\n",
            "Requirement already satisfied: anyio in /usr/local/lib/python3.10/dist-packages (from httpx>=0.21.2->mixedbread_ai) (3.7.1)\n",
            "Requirement already satisfied: certifi in /usr/local/lib/python3.10/dist-packages (from httpx>=0.21.2->mixedbread_ai) (2024.8.30)\n",
            "Requirement already satisfied: httpcore==1.* in /usr/local/lib/python3.10/dist-packages (from httpx>=0.21.2->mixedbread_ai) (1.0.6)\n",
            "Requirement already satisfied: idna in /usr/local/lib/python3.10/dist-packages (from httpx>=0.21.2->mixedbread_ai) (3.10)\n",
            "Requirement already satisfied: sniffio in /usr/local/lib/python3.10/dist-packages (from httpx>=0.21.2->mixedbread_ai) (1.3.1)\n",
            "Requirement already satisfied: h11<0.15,>=0.13 in /usr/local/lib/python3.10/dist-packages (from httpcore==1.*->httpx>=0.21.2->mixedbread_ai) (0.14.0)\n",
            "Requirement already satisfied: annotated-types>=0.6.0 in /usr/local/lib/python3.10/dist-packages (from pydantic>=1.9.2->mixedbread_ai) (0.7.0)\n",
            "Requirement already satisfied: pydantic-core==2.23.4 in /usr/local/lib/python3.10/dist-packages (from pydantic>=1.9.2->mixedbread_ai) (2.23.4)\n",
            "Requirement already satisfied: exceptiongroup in /usr/local/lib/python3.10/dist-packages (from anyio->httpx>=0.21.2->mixedbread_ai) (1.2.2)\n",
            "Downloading mixedbread_ai-2.2.6-py3-none-any.whl (42 kB)\n",
            "\u001b[2K   \u001b[90m━━━━━━━━━━━━━━━━━━━━━━━━━━━━━━━━━━━━━━━━\u001b[0m \u001b[32m42.9/42.9 kB\u001b[0m \u001b[31m1.6 MB/s\u001b[0m eta \u001b[36m0:00:00\u001b[0m\n",
            "\u001b[?25hInstalling collected packages: mixedbread_ai\n",
            "Successfully installed mixedbread_ai-2.2.6\n"
          ]
        }
      ]
    },
    {
      "cell_type": "code",
      "source": [
        "from mixedbread_ai.client import MixedbreadAI\n",
        "\n",
        "mxbai = MixedbreadAI(api_key=\"emb_9e6ddda575ff49634baaaf2fe197a44f1d04bf749436e54f\")\n",
        "\n",
        "res = mxbai.embeddings(\n",
        "  model='mixedbread-ai/mxbai-embed-large-v1',\n",
        "  input=[\n",
        "    'Who is German and likes bread?',\n",
        "    'Everybody in Germany.'\n",
        "],\n",
        "  normalized=True,\n",
        "  encoding_format='float',\n",
        "  truncation_strategy='end'\n",
        ")\n",
        "\n",
        "print(res.data[0].embedding)"
      ],
      "metadata": {
        "colab": {
          "base_uri": "https://localhost:8080/"
        },
        "id": "9Uw6N2lkoZGZ",
        "outputId": "5403acbc-91f2-48cd-d014-5cab6f4c52b9"
      },
      "execution_count": 28,
      "outputs": [
        {
          "output_type": "stream",
          "name": "stdout",
          "text": [
            "[-0.007621765, 0.01374054, -0.010055542, 0.013183594, -0.036712646, 0.01864624, 0.021881104, 0.017227173, -0.035003662, -0.0096206665, -0.010017395, -0.03967285, 0.025512695, -0.008255005, 0.0040016174, -0.044525146, -0.015151978, -0.03552246, -0.041778564, 0.024353027, 0.08642578, 0.012748718, -0.007873535, -0.0052108765, 0.011520386, 0.022384644, 0.040008545, -0.032073975, 0.054718018, 0.013198853, 0.013031006, 0.008300781, 0.010925293, -0.043121338, 0.012306213, -0.015151978, 0.017929077, -0.04675293, 0.07080078, -0.04345703, 0.03982544, -0.049621582, -0.009140015, -0.029846191, -0.012817383, -0.0033168793, -0.008430481, -0.038024902, 0.04510498, -9.179115e-05, 0.0440979, 0.021759033, 0.012374878, -0.025100708, 0.020629883, -0.05041504, -0.009849548, 0.039489746, -0.048065186, -0.0063591003, 0.03289795, 0.008071899, 0.00084877014, -0.064208984, 0.0146102905, 0.016860962, 0.03302002, 0.011810303, -0.012573242, -0.049438477, 0.021362305, -0.033294678, -0.004196167, -0.03387451, -0.03555298, -0.02255249, -0.04208374, 0.029296875, -0.02229309, -0.012397766, 0.022079468, -0.010871887, 0.020339966, 0.008804321, 0.0077438354, -0.0010662079, 0.043792725, 0.067993164, 0.008804321, -0.0044555664, 0.008934021, 0.028945923, -0.0042877197, -0.023635864, 0.062438965, 0.0022258759, 0.02355957, 0.07720947, 0.028900146, -0.01361084, 0.06555176, 0.0135650635, -0.019485474, 0.070251465, -0.015808105, 0.03503418, -0.028823853, 0.040649414, -0.024429321, 0.030685425, -0.006427765, -0.029769897, 0.01737976, -0.0015525818, -0.006626129, -0.0015068054, -0.030715942, 0.039215088, -0.020065308, 0.010688782, -0.047912598, -0.003929138, 0.0038833618, 0.009857178, 0.021270752, 0.019165039, -0.06237793, 0.03375244, 0.012382507, -0.016571045, 0.019485474, -0.018341064, 0.01739502, -0.04046631, -0.01638794, 0.03967285, -0.02658081, 0.03277588, -0.034088135, 0.013687134, 0.026062012, -0.0001667738, -0.023147583, 0.045715332, 0.0015563965, 0.022827148, 0.009689331, -0.02355957, -0.036102295, 0.0093307495, -0.024108887, -0.009361267, -0.0029582977, -0.003528595, -0.021835327, -0.0054016113, 0.010192871, -0.010322571, -0.011856079, -0.012031555, -0.044677734, 0.001115799, -0.011695862, 0.0519104, -0.008644104, 0.019348145, 0.059631348, 0.025726318, 0.0015048981, -0.008766174, 0.00390625, 0.020645142, -0.01020813, -0.0031585693, -0.022003174, -0.01108551, 0.04559326, -0.05718994, 0.032073975, -0.028686523, -0.04168701, -8.946657e-05, -0.003074646, 0.037963867, 0.002603531, 0.0017538071, -0.07080078, 0.00075531006, 0.013748169, -0.02166748, -0.0107040405, 0.02041626, -0.029708862, 0.023483276, 0.014030457, 0.0670166, -0.080444336, 0.020629883, 0.017791748, -0.0030155182, -0.06341553, 0.06011963, 0.021957397, 0.017227173, 0.02494812, -0.057250977, 0.03250122, 0.020126343, -0.0519104, -0.023971558, 0.008262634, -0.015991211, -0.017593384, -0.045043945, 0.018310547, -0.009719849, -0.015098572, 0.027420044, -0.09222412, 0.01876831, -0.02331543, 0.02041626, 0.015380859, -0.012527466, -0.011253357, 0.025512695, -0.004737854, 0.040740967, -0.002910614, -0.010772705, -0.046722412, -0.017730713, -0.014221191, 0.07269287, -0.018539429, 0.028381348, 0.06555176, -0.014923096, 0.0340271, 0.010818481, -0.0077705383, 0.0036258698, 0.02168274, 0.023712158, -0.008605957, 0.06137085, -0.029678345, 0.030166626, 0.045196533, 0.017044067, 0.005996704, -0.060394287, -0.021896362, 0.048187256, -0.0039482117, -0.049804688, -0.011375427, 0.0027008057, 0.015808105, -0.028137207, 0.008743286, -0.0015773773, 0.021957397, 0.0075950623, 0.02067566, 0.019439697, 0.010604858, -0.029632568, -0.010612488, -0.040039062, -0.00198555, -0.05569458, 0.022445679, -0.004989624, -0.04827881, 0.008171082, 0.025817871, -0.024307251, 0.03540039, 0.030410767, 0.03439331, 0.005672455, 0.010414124, 0.032836914, 0.023880005, 0.027282715, 0.031173706, 0.019897461, -0.00029563904, 0.005203247, 0.009605408, -0.043151855, -0.017623901, 0.030838013, -0.027999878, 0.007331848, -0.091796875, 0.025299072, -0.000538826, -0.013366699, 0.024765015, 0.010978699, 0.013198853, 0.0022068024, -0.018112183, -0.029418945, 0.0045051575, -0.02468872, 0.052337646, 0.0126571655, -0.04324341, -0.006580353, 0.011810303, -0.028381348, -0.028839111, 0.04058838, 0.074157715, 0.051483154, -0.02835083, 0.012687683, -0.023040771, -0.0016860962, -0.012435913, 7.790327e-05, -0.0032634735, 0.007083893, -0.06781006, -0.0287323, 0.010398865, 0.027389526, -0.05102539, -0.028518677, -0.037994385, 0.07897949, 0.00207901, -0.020309448, 0.030517578, 0.029190063, 0.024993896, -0.033721924, -0.023605347, 0.004962921, 0.0127334595, 0.046173096, -0.00038695335, 0.022079468, -0.0038490295, 0.011833191, 0.03186035, -0.01940918, 0.043914795, 0.02709961, 0.032165527, 0.007926941, 0.005302429, 0.056762695, -0.004951477, 0.016647339, 0.039398193, -0.020187378, 0.030899048, 0.02557373, -0.011405945, 0.011161804, -0.04296875, -0.040527344, -0.011444092, 0.006526947, 0.028030396, -0.08935547, -0.01474762, -0.020767212, -0.0007882118, 0.018157959, -0.06011963, -0.033691406, 0.040802002, -0.034942627, 0.05456543, -0.024917603, 0.066101074, -0.027923584, 0.022018433, -0.009101868, 0.0044784546, 0.002746582, -0.025772095, 0.031219482, -0.033477783, -0.018997192, -0.009048462, -0.06341553, 0.031341553, -0.004322052, -0.02998352, -0.029922485, 0.013145447, -0.035614014, -0.0020198822, -0.021240234, 0.031402588, -0.0063438416, 0.03817749, 0.052093506, 0.04034424, 0.04949951, 0.007549286, 0.046661377, 0.037750244, -0.050598145, 0.02305603, 0.0446167, -0.025543213, 0.032440186, 0.0061912537, 0.006565094, -0.058288574, 0.03125, 0.035705566, 0.030685425, -0.007507324, 0.024887085, 0.001824379, 0.028442383, 0.050079346, -0.026046753, -0.044036865, 0.014289856, 0.026168823, 0.067993164, 0.00749588, -0.033599854, -0.07489014, -0.0135269165, -0.0044822693, -0.0129470825, 0.025253296, -0.019851685, 0.043060303, -0.0072784424, -0.026306152, 0.0368042, 0.0022830963, -0.0005645752, 0.010032654, 0.043640137, -0.021118164, 0.01625061, 0.032592773, -0.0368042, 0.0010080338, -0.041290283, 0.020324707, 0.00724411, -0.00831604, 0.008888245, 0.019454956, -0.010551453, 0.006538391, -0.005580902, -0.029388428, 0.019805908, 0.048095703, 0.03201294, -0.0039711, 0.008079529, -0.029922485, 0.029144287, 0.004673004, 0.06744385, -0.013771057, -0.026870728, 0.040924072, -0.032958984, 0.040405273, 0.009292603, 0.017974854, 0.00037550926, -0.005344391, 0.01159668, -0.049591064, -0.036346436, -0.0107421875, -0.010475159, 0.014419556, -0.10864258, -0.026184082, -0.00044608116, -0.035614014, -0.0065460205, 0.010566711, -0.006214142, 0.0021762848, -0.0029563904, 0.009513855, -0.025512695, -0.013977051, 0.0025119781, 0.0012702942, 0.035491943, 0.020355225, -0.039733887, 0.01146698, -0.02848816, 0.01399231, -0.02406311, 0.026885986, -0.019378662, 0.021133423, -0.022094727, 0.02281189, 0.0118637085, -0.024932861, 0.013389587, 0.021636963, -0.027496338, 0.0029506683, -0.030975342, -0.046783447, 0.04473877, 0.020889282, -0.086120605, 0.029251099, 0.020690918, 0.015419006, 0.029174805, 0.019256592, -0.015060425, -0.047027588, -0.07525635, -0.027359009, -0.052246094, -0.049346924, -0.05279541, 0.017822266, -0.058654785, 0.060058594, -0.057861328, 0.014587402, 0.017318726, -0.026992798, -0.028823853, 0.0060577393, -0.07550049, -0.045196533, 0.06726074, 0.020767212, 0.018722534, -0.014099121, 0.0105896, -0.003660202, 0.00068330765, 0.0713501, -0.015991211, -0.021011353, -0.036834717, -0.021347046, 0.02166748, 0.021255493, 0.0060043335, -0.037628174, 0.05718994, -0.02255249, -0.01966858, -0.062561035, -0.038604736, 0.0015554428, -0.006324768, -0.016708374, 0.0023822784, 0.006752014, 0.019012451, 0.0042533875, 0.023025513, -0.03048706, -0.08166504, -0.032043457, -0.053894043, -0.016036987, 0.018966675, -0.018569946, 0.0017433167, -0.019546509, -0.04360962, 0.033203125, 0.030166626, 0.010971069, 0.05307007, -0.035217285, -0.046173096, -0.05670166, 0.031463623, -0.025146484, -0.03894043, -0.0069465637, -0.032592773, 0.01335144, 0.038391113, 0.01586914, -0.039367676, 0.0030326843, 0.020965576, 0.029571533, -0.035614014, 0.018341064, -0.05130005, -0.03111267, -0.017822266, 0.022903442, 0.027786255, -0.005634308, 0.035095215, -0.027709961, 0.010650635, -0.0002104044, 0.013809204, -0.012001038, -0.037078857, -0.020751953, -0.015357971, -0.064575195, 0.03302002, 0.04675293, -0.026275635, -0.023361206, 0.009841919, -0.024490356, -0.008811951, 0.012306213, -0.03967285, 0.018447876, -0.0017957687, -0.007286072, -0.0043182373, -0.018112183, 0.02507019, -0.00024700165, 0.035064697, -0.0087890625, 0.009635925, 0.051818848, -0.030410767, 0.004508972, 0.017562866, 0.008682251, -0.026138306, 0.026611328, 0.028625488, 0.0079574585, -0.022216797, 0.01423645, 0.020843506, 0.01626587, -0.016571045, -0.017623901, -0.03086853, -0.04208374, -0.0385437, -0.037994385, -0.0024318695, -0.0087890625, 0.010192871, -0.04248047, -0.014083862, 0.07421875, 0.026397705, 0.01953125, -0.01864624, -0.009384155, -0.035095215, -0.015151978, -0.061431885, -0.01259613, 0.0079574585, -0.0073661804, 0.003408432, -0.026306152, 0.01701355, -0.012710571, 0.00013005733, 0.012664795, -0.025405884, 0.016860962, 0.009269714, -0.037017822, -0.010978699, -0.0011119843, -0.02607727, -0.008132935, -0.032958984, -0.00945282, -0.021865845, 0.06567383, 0.032836914, 0.0140686035, 0.009292603, -0.058166504, 0.016143799, 0.014274597, -0.0027942657, -0.0025463104, 0.0046806335, -0.007820129, -0.027709961, 0.023971558, -0.038482666, -0.021820068, -0.013053894, 0.056884766, 0.001461029, 0.027816772, -0.037994385, -0.005405426, -0.01626587, 0.02835083, -0.05810547, 0.013320923, -0.060546875, 0.047607422, 0.05255127, 0.005760193, -0.01424408, 0.014625549, 0.0035686493, -0.006225586, -0.060272217, -0.068115234, -0.006252289, -0.021484375, 0.024307251, -0.0015201569, -0.027389526, 0.0362854, 0.029891968, -0.03930664, 0.008422852, -0.03741455, -0.027572632, -0.0045318604, 0.04815674, 0.0071640015, 0.040161133, -0.015411377, 0.013076782, -0.062561035, -0.01651001, -0.009643555, -0.04736328, -0.015556335, 0.018218994, -0.0033626556, 0.0048294067, -0.025985718, -0.013641357, 0.020950317, -0.027038574, 0.009727478, 0.030960083, -0.0463562, 0.018997192, 0.017166138, 0.009376526, -0.03881836, -0.010658264, 0.007232666, 0.00075769424, 0.0035915375, 0.000705719, -0.015571594, -0.0014858246, -0.05380249, 0.022476196, -0.027023315, -0.005634308, 0.0011396408, -0.0062942505, 0.041046143, -0.018127441, 0.0496521, -0.019699097, 0.020004272, -0.049926758, -0.00015068054, -0.009963989, -0.03036499, 0.042266846, 0.06951904, 0.025253296, 0.025100708, 0.046081543, 0.010444641, 0.029541016, -0.019119263, -0.010856628, -0.013313293, 0.057861328, -0.0033817291, 0.013946533, 0.0262146, -0.002872467, 0.022079468, -0.010848999, 0.02810669, 0.027923584, 0.035095215, -0.019378662, 0.06060791, 0.0128479, 0.03640747, 0.03253174, 0.004501343, 0.015991211, -0.004711151, -0.02029419, 0.0066452026, 0.006313324, 0.051208496, -0.031341553, 0.02204895, 0.008613586, 0.019363403, -0.017227173, 0.033447266, -0.050720215, -0.031219482, 0.03567505, -0.028762817, -0.010437012, 0.025161743, -0.015487671, -0.041748047, -0.046569824, 0.021255493, 0.055419922, 2.270937e-05, -0.029876709, 0.0038108826, -1.1086464e-05, 0.008255005, -0.016738892, 0.008956909, 0.034210205, 0.022903442, -0.020843506, -0.005695343, 0.011619568, 0.0065841675, 0.049468994, 0.01436615, -0.027236938, -0.011566162, 0.012779236, 0.00068092346, 0.040863037, 0.030410767, 0.0050354004, -0.02897644, 0.019897461, 0.016159058, 0.004711151, -0.009185791, 0.02784729, -0.019424438, 0.04058838, -0.002784729, -0.0904541, -0.01210022, -0.00831604, -0.014709473, -0.009544373, 0.033111572, 0.0013685226, -0.0076828003, -0.0012388229, 0.032958984, -0.041992188, 0.00522995, -0.0057640076, 0.047668457, -0.012039185, -0.018692017, -0.029525757, 0.022979736, -0.012771606, -0.05834961, 0.061584473, -0.04272461, -0.01701355, -0.047790527, -0.060058594, -0.040771484, -0.010848999, -0.013496399, -0.03515625, -0.01448822, -0.0020751953, -0.030761719, 0.006954193, 0.03488159, 0.014419556, 0.0042762756, -0.0026512146, -0.011100769, -0.004840851, 0.009132385, -0.0031814575, 0.06317139, -0.0025119781, -0.014350891, 0.02015686, -0.01675415, -0.021774292, 0.013496399, 0.005317688, -0.0037136078, 0.01436615, 0.012077332, 0.012542725, -0.01399231, -0.08074951, -0.03062439, -0.06060791, 0.017211914, -0.034179688, 0.011627197, 0.021575928, 0.009819031, 0.023727417, -0.05718994, 0.2097168, 0.021072388, 0.030975342, -0.0025310516, 0.0027580261, 0.06958008, 0.019744873, 0.0024147034, -0.023010254, -0.027450562, 0.017929077, 0.023712158, 0.04650879, -0.027786255, 0.04006958, 0.00415802, 0.007217407, 0.035125732, 0.008087158, -0.03503418, -0.033294678, -0.0013017654, 0.042938232, 0.009750366, 0.014350891, 0.07458496, 0.011276245, 0.0009899139, -0.016586304, -0.07507324, 0.058013916, -0.008972168, 0.0045433044, -0.01309967, -0.014083862, 0.007610321, -0.054260254, -0.07775879, 0.008285522, 0.049621582, -0.02255249, -0.025268555, 0.036346436, 0.007820129, 0.026306152, 0.015205383, -0.00020766258, -0.008552551, 0.01737976, 0.043273926, 0.055999756, -0.06652832, 0.00856781, -0.0063323975, 0.014923096, -0.010383606, 0.014411926, -0.018661499, 0.0146484375, -0.038146973, -0.011985779, -0.026123047, 0.012016296, -0.021377563, -0.026412964, 0.013168335, 0.08026123, 0.035949707, -0.017608643, -0.052459717, -0.008956909, -0.04373169, -0.006084442, 0.0037174225, 0.02960205, -0.009017944, -0.023910522, -0.0084991455, -0.024002075, -0.004711151, 0.02810669, -0.01586914, 0.025421143, 0.034301758, 0.008636475, 0.022201538, -0.015731812, -0.014350891, -0.022537231, 0.054351807, 0.039215088, -0.022094727, -0.035888672, -0.040740967, 0.019073486]\n"
          ]
        }
      ]
    },
    {
      "cell_type": "code",
      "source": [
        "texts = ['Who is German and likes bread?', 'Everyone in Genrmany.']\n",
        "embeddings = [\n",
        "    res.data[0].embedding,\n",
        "    res.data[1].embedding\n",
        "]\n",
        "\n",
        "# Push embeddings to Qdrant\n",
        "for idx, embedding in enumerate(embeddings):\n",
        "  client.upsert(\n",
        "      collection_name=os.getenv('qdrant_collection_name'),\n",
        "      points=[\n",
        "          {\n",
        "              \"id\":idx,\n",
        "              \"vector\":embedding,\n",
        "              \"payload\":{\"text\":texts[idx]}\n",
        "          }\n",
        "      ]\n",
        "  )\n",
        "print(\"Embeddings pushed to Qdrant Sucessfully\")"
      ],
      "metadata": {
        "colab": {
          "base_uri": "https://localhost:8080/"
        },
        "id": "i3GOBhKNp03-",
        "outputId": "9b447046-79a5-4dd8-997e-2964e3f40a93"
      },
      "execution_count": 29,
      "outputs": [
        {
          "output_type": "stream",
          "name": "stdout",
          "text": [
            "Embeddings pushed to Qdrant Sucessfully\n"
          ]
        }
      ]
    },
    {
      "cell_type": "code",
      "source": [
        "query_text = \"Who likes bread in Europe?\"\n",
        "\n",
        "#Generate embedding for the query\n",
        "query_embedding = mxbai.embeddings(\n",
        "    model='mixedbread-ai/mxbai-embed-large-v1',\n",
        "    input=[query_text],\n",
        "    normalized=True,\n",
        "    encoding_format='float',\n",
        ").data[0].embedding"
      ],
      "metadata": {
        "id": "PljXeub5tDrZ"
      },
      "execution_count": 30,
      "outputs": []
    },
    {
      "cell_type": "code",
      "source": [
        "#Perform similarity search\n",
        "search_results = client.search(\n",
        "    collection_name = os.getenv('qdrant_collection_name'),\n",
        "    query_vector = query_embedding,\n",
        "    limit = 2\n",
        ")\n",
        "\n",
        "for result in search_results:\n",
        "  print(f\"Text: {result.payload['text']},Score: {result.score}\")"
      ],
      "metadata": {
        "colab": {
          "base_uri": "https://localhost:8080/"
        },
        "id": "bjRpEPVatgE4",
        "outputId": "bc9f59b9-ec78-4829-fce6-64b14a16818e"
      },
      "execution_count": 31,
      "outputs": [
        {
          "output_type": "stream",
          "name": "stdout",
          "text": [
            "Text: Who is German and likes bread?,Score: 0.7796807\n",
            "Text: Everyone in Genrmany.,Score: 0.49597105\n"
          ]
        }
      ]
    }
  ]
}